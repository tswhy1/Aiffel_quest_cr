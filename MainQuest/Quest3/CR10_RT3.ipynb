{
 "cells": [
  {
   "cell_type": "markdown",
   "id": "b7650799",
   "metadata": {},
   "source": [
    "## 폐렴진단기 성능 개선 프로젝트"
   ]
  },
  {
   "cell_type": "markdown",
   "id": "5d827270",
   "metadata": {},
   "source": [
    "1. 개요\n",
    "\n",
    "목표는 CNN 기반의 의료영상 처리 모델을 구축하고 성능을 개선하는 것.\n",
    "다양한 실험(데이터 증강, 모델 구조 변경, ResNet-18 구현 등)을 통해 비교하고, 성능을 개선하는 것."
   ]
  },
  {
   "cell_type": "markdown",
   "id": "df0ee684",
   "metadata": {},
   "source": [
    " <주요 목표>\n",
    "\n",
    "  CNN 기반 베이스 모델 구현 및 학습 안정화\n",
    "  데이터 증강(Data Augmentation) 기법 적용 후 성능 비교\n",
    "  모델 구조 변경 및 ResNet-18 구현 후 성능 비교\n",
    "  데이터 imblance 문제를 해결하기 위한 class weight 적용"
   ]
  },
  {
   "cell_type": "markdown",
   "id": "b348071a",
   "metadata": {},
   "source": [
    "2. 목차\n",
    "\n",
    "  1.개요\n",
    "  \n",
    "  2.데이터 준비 및 전처리\n",
    "  \n",
    "  3.CNN 모델 구현 및 학습\n",
    "  \n",
    "  4.ResNet-18 모델 구현 및 학습\n",
    "  \n",
    "  5.성능 비교 및 결과 분석\n",
    "  \n",
    "  6.회고 및 개선점\n",
    "  \n",
    "  7.참고자료"
   ]
  },
  {
   "cell_type": "code",
   "execution_count": 5,
   "id": "1fbaf073",
   "metadata": {},
   "outputs": [
    {
     "name": "stdout",
     "output_type": "stream",
     "text": [
      "2.6.0\n"
     ]
    }
   ],
   "source": [
    "import tensorflow\n",
    "print(tensorflow.__version__)"
   ]
  },
  {
   "cell_type": "code",
   "execution_count": 15,
   "id": "6901093e",
   "metadata": {},
   "outputs": [],
   "source": [
    "#데이터전처리"
   ]
  },
  {
   "cell_type": "code",
   "execution_count": 1,
   "id": "648774eb",
   "metadata": {},
   "outputs": [],
   "source": [
    "import os\n",
    "import random \n",
    "import math\n",
    "import numpy as np\n",
    "import tensorflow as tf\n",
    "import matplotlib.pyplot as plt\n",
    "from tensorflow.keras import layers, models\n",
    "from tensorflow.keras.preprocessing.image import ImageDataGenerator\n",
    "import warnings\n",
    "\n",
    "warnings.filterwarnings(\"ignore\")"
   ]
  },
  {
   "cell_type": "code",
   "execution_count": 2,
   "id": "044e25ad",
   "metadata": {},
   "outputs": [],
   "source": [
    "# 데이터 로드 속도 향상을 위한 설정\n",
    "AUTOTUNE = tf.data.experimental.AUTOTUNE\n",
    "IMAGE_SIZE = [180, 180]"
   ]
  },
  {
   "cell_type": "code",
   "execution_count": 3,
   "id": "ca2546f4",
   "metadata": {},
   "outputs": [],
   "source": [
    "# 데이터 경로 설정\n",
    "ROOT_PATH = os.path.join(os.getenv('HOME'), 'aiffel')\n",
    "TRAIN_PATH = os.path.join(ROOT_PATH, 'chest_xray/data/train/*/*')\n",
    "VAL_PATH = os.path.join(ROOT_PATH, 'chest_xray/data/val/*/*')\n",
    "TEST_PATH = os.path.join(ROOT_PATH, 'chest_xray/data/test/*/*')"
   ]
  },
  {
   "cell_type": "code",
   "execution_count": 4,
   "id": "bfb4cdb4",
   "metadata": {},
   "outputs": [],
   "source": [
    "#하이퍼 파라미터설정\n",
    "BATCH_SIZE = 16\n",
    "EPOCHS = 15 # 추가 개선: 에포크 수 증가\n",
    "INITIAL_LR = 0.001  # 학습률 초기값 설정(추가개선)"
   ]
  },
  {
   "cell_type": "code",
   "execution_count": 5,
   "id": "e9c8cea4",
   "metadata": {},
   "outputs": [],
   "source": [
    "# 데이터 로드 및 확인\n",
    "train_filenames = tf.io.gfile.glob(TRAIN_PATH)\n",
    "val_filenames = tf.io.gfile.glob(VAL_PATH)\n",
    "test_filenames = tf.io.gfile.glob(TEST_PATH)"
   ]
  },
  {
   "cell_type": "code",
   "execution_count": 6,
   "id": "f9eddb84",
   "metadata": {
    "scrolled": true
   },
   "outputs": [
    {
     "name": "stdout",
     "output_type": "stream",
     "text": [
      "Training samples: 5216\n",
      "Validation samples: 16\n",
      "Test samples: 624\n"
     ]
    }
   ],
   "source": [
    "print(f\"Training samples: {len(train_filenames)}\")\n",
    "print(f\"Validation samples: {len(val_filenames)}\")\n",
    "print(f\"Test samples: {len(test_filenames)}\")"
   ]
  },
  {
   "cell_type": "code",
   "execution_count": 7,
   "id": "d3a973ce",
   "metadata": {},
   "outputs": [],
   "source": [
    "# TensorFlow Dataset 객체 생성\n",
    "train_list_ds = tf.data.Dataset.from_tensor_slices(train_filenames)\n",
    "val_list_ds = tf.data.Dataset.from_tensor_slices(val_filenames)"
   ]
  },
  {
   "cell_type": "code",
   "execution_count": 8,
   "id": "1fc6369c",
   "metadata": {},
   "outputs": [],
   "source": [
    "# 데이터 전처리: 파일 경로에서 레이블 추출\n",
    "def get_label(file_path):\n",
    "    parts = tf.strings.split(file_path, os.path.sep)\n",
    "    return tf.cast(parts[-2] == \"PNEUMONIA\", tf.float32)  # 폐렴=1, 정상=0"
   ]
  },
  {
   "cell_type": "code",
   "execution_count": 9,
   "id": "b790d8f3",
   "metadata": {},
   "outputs": [],
   "source": [
    "# 이미지 디코딩 및 리사이즈\n",
    "def decode_img(img):\n",
    "    img = tf.image.decode_jpeg(img, channels=3)\n",
    "    img = tf.image.resize(img, IMAGE_SIZE)\n",
    "    img = tf.image.convert_image_dtype(img, tf.float32)  # [0, 1] 범위로 정규화\n",
    "    return img"
   ]
  },
  {
   "cell_type": "code",
   "execution_count": 10,
   "id": "51052949",
   "metadata": {},
   "outputs": [],
   "source": [
    "# 파일 경로에서 이미지와 라벨 처리\n",
    "def process_path(file_path):\n",
    "    label = get_label(file_path)\n",
    "    img = tf.io.read_file(file_path)\n",
    "    img = decode_img(img)\n",
    "    return img, label"
   ]
  },
  {
   "cell_type": "code",
   "execution_count": 11,
   "id": "6422fb99",
   "metadata": {},
   "outputs": [],
   "source": [
    "# 데이터 전처리 적용\n",
    "train_ds = train_list_ds.map(process_path, num_parallel_calls=AUTOTUNE)\n",
    "val_ds = val_list_ds.map(process_path, num_parallel_calls=AUTOTUNE)"
   ]
  },
  {
   "cell_type": "code",
   "execution_count": 12,
   "id": "359a9ba4",
   "metadata": {},
   "outputs": [],
   "source": [
    "# 데이터 증강 함수 정의\n",
    "def augment(image, label):\n",
    "    image = tf.image.random_flip_left_right(image)  # 좌우 반전\n",
    "    image = tf.image.random_brightness(image, max_delta=0.1)  # 밝기 조절\n",
    "    image = tf.image.random_contrast(image, lower=0.8, upper=1.2)  # 대비 조정 (추가 개선)\n",
    "    return image, label"
   ]
  },
  {
   "cell_type": "code",
   "execution_count": 13,
   "id": "b4e9dfa8",
   "metadata": {},
   "outputs": [],
   "source": [
    "# 데이터 증강 적용\n",
    "train_ds = train_ds.map(augment, num_parallel_calls=AUTOTUNE)"
   ]
  },
  {
   "cell_type": "code",
   "execution_count": 14,
   "id": "0dfbbe22",
   "metadata": {},
   "outputs": [],
   "source": [
    "# 데이터 배치 및 최적화를 위한 설정\n",
    "train_ds = train_ds.shuffle(buffer_size=1000).batch(BATCH_SIZE).prefetch(buffer_size=AUTOTUNE)\n",
    "val_ds = val_ds.batch(BATCH_SIZE).prefetch(buffer_size=AUTOTUNE)"
   ]
  },
  {
   "cell_type": "code",
   "execution_count": 15,
   "id": "2a17115a",
   "metadata": {},
   "outputs": [
    {
     "name": "stdout",
     "output_type": "stream",
     "text": [
      "Weight for NORMAL: 1.94\n",
      "Weight for PNEUMONIA: 0.67\n"
     ]
    }
   ],
   "source": [
    "# 데이터 클래스 불균형 처리\n",
    "count_normal = len([f for f in train_filenames if \"NORMAL\" in f])\n",
    "count_pneumonia = len(train_filenames) - count_normal\n",
    "weight_normal = 1 / count_normal * len(train_filenames) / 2.0\n",
    "weight_pneumonia = 1 / count_pneumonia * len(train_filenames) / 2.0\n",
    "class_weight = {0: weight_normal, 1: weight_pneumonia}\n",
    "\n",
    "print(f\"Weight for NORMAL: {weight_normal:.2f}\")\n",
    "print(f\"Weight for PNEUMONIA: {weight_pneumonia:.2f}\")"
   ]
  },
  {
   "cell_type": "code",
   "execution_count": 17,
   "id": "b5014399",
   "metadata": {},
   "outputs": [],
   "source": [
    "# CNN 모델 정의\n",
    "def build_cnn_model():\n",
    "    model = tf.keras.Sequential([\n",
    "        tf.keras.layers.Conv2D(32, (3, 3), activation='relu', input_shape=(180, 180, 3)),\n",
    "        tf.keras.layers.MaxPooling2D((2, 2)),\n",
    "        tf.keras.layers.Conv2D(64, (3, 3), activation='relu'),\n",
    "        tf.keras.layers.MaxPooling2D((2, 2)),\n",
    "        tf.keras.layers.Conv2D(128, (3, 3), activation='relu'),\n",
    "        tf.keras.layers.MaxPooling2D((2, 2)),\n",
    "        tf.keras.layers.Dropout(0.3), # 추가개선: 드롭아웃 적용\n",
    "        tf.keras.layers.Flatten(),\n",
    "        tf.keras.layers.Dense(128, activation='relu'),\n",
    "        tf.keras.layers.Dropout(0.5), # 추가개선: Fully Connected Layer 드롭아웃 적용\n",
    "        tf.keras.layers.Dense(1, activation='sigmoid')\n",
    "    ])\n",
    "    return model"
   ]
  },
  {
   "cell_type": "code",
   "execution_count": 18,
   "id": "ca417e3a",
   "metadata": {},
   "outputs": [],
   "source": [
    "# CNN 모델 컴파일\n",
    "cnn_model = build_cnn_model()\n",
    "cnn_model.compile(\n",
    "    optimizer='adam',\n",
    "    loss='binary_crossentropy',\n",
    "    metrics=['accuracy']\n",
    ")"
   ]
  },
  {
   "cell_type": "code",
   "execution_count": 19,
   "id": "e7d2ff53",
   "metadata": {},
   "outputs": [],
   "source": [
    "# ResNet-18 모델 정의\n",
    "def resnet_block(input_layer, filters, stride=1):\n",
    "    x = tf.keras.layers.Conv2D(filters, (3, 3), strides=stride, padding='same', activation='relu')(input_layer)\n",
    "    x = tf.keras.layers.BatchNormalization()(x)\n",
    "    x = tf.keras.layers.Conv2D(filters, (3, 3), strides=1, padding='same', activation=None)(x)\n",
    "    x = tf.keras.layers.BatchNormalization()(x)\n",
    "    if stride != 1 or input_layer.shape[-1] != filters:\n",
    "        input_layer = tf.keras.layers.Conv2D(filters, (1, 1), strides=stride, padding='same')(input_layer)\n",
    "    x = tf.keras.layers.add([x, input_layer])\n",
    "    return tf.keras.layers.Activation('relu')(x)\n",
    "\n",
    "def build_resnet18():\n",
    "    input_layer = tf.keras.layers.Input(shape=(180, 180, 3))\n",
    "    x = tf.keras.layers.Conv2D(64, (7, 7), strides=2, padding='same', activation='relu')(input_layer)\n",
    "    x = tf.keras.layers.BatchNormalization()(x)\n",
    "    x = tf.keras.layers.MaxPooling2D((3, 3), strides=2, padding='same')(x)\n",
    "    x = resnet_block(x, 64)\n",
    "    x = resnet_block(x, 64)\n",
    "    x = resnet_block(x, 128, stride=2)\n",
    "    x = resnet_block(x, 128)\n",
    "    x = resnet_block(x, 256, stride=2)\n",
    "    x = resnet_block(x, 256)\n",
    "    x = resnet_block(x, 512, stride=2)\n",
    "    x = resnet_block(x, 512)\n",
    "    x = tf.keras.layers.GlobalAveragePooling2D()(x)\n",
    "    output_layer = tf.keras.layers.Dense(1, activation='sigmoid')(x)\n",
    "    return tf.keras.Model(input_layer, output_layer)"
   ]
  },
  {
   "cell_type": "code",
   "execution_count": 21,
   "id": "35b3219d",
   "metadata": {},
   "outputs": [],
   "source": [
    "# 학습률 스케줄링 (추가 개선)\n",
    "lr_schedule = tf.keras.optimizers.schedules.ExponentialDecay(\n",
    "    initial_learning_rate=INITIAL_LR,\n",
    "    decay_steps=10000,\n",
    "    decay_rate=0.9\n",
    ")"
   ]
  },
  {
   "cell_type": "code",
   "execution_count": 22,
   "id": "e807279d",
   "metadata": {},
   "outputs": [],
   "source": [
    "# ResNet-18 모델 컴파일\n",
    "resnet_model = build_resnet18()\n",
    "resnet_model.compile(\n",
    "    optimizer='adam',\n",
    "    loss='binary_crossentropy',\n",
    "    metrics=['accuracy']\n",
    ")"
   ]
  },
  {
   "cell_type": "code",
   "execution_count": 23,
   "id": "d8e75f34",
   "metadata": {},
   "outputs": [],
   "source": [
    "# EarlyStopping 적용 (추가 개선)\n",
    "early_stopping = tf.keras.callbacks.EarlyStopping(\n",
    "    monitor='val_loss',\n",
    "    patience=3,\n",
    "    restore_best_weights=True\n",
    ")"
   ]
  },
  {
   "cell_type": "code",
   "execution_count": 24,
   "id": "9da7b3ef",
   "metadata": {
    "scrolled": false
   },
   "outputs": [
    {
     "name": "stdout",
     "output_type": "stream",
     "text": [
      "Epoch 1/15\n",
      "326/326 [==============================] - 22s 33ms/step - loss: 8.9554 - accuracy: 0.8113 - val_loss: 2.3058 - val_accuracy: 0.6250\n",
      "Epoch 2/15\n",
      "326/326 [==============================] - 19s 36ms/step - loss: 0.5851 - accuracy: 0.8537 - val_loss: 0.7041 - val_accuracy: 0.5000\n",
      "Epoch 3/15\n",
      "326/326 [==============================] - 18s 35ms/step - loss: 0.6746 - accuracy: 0.8261 - val_loss: 0.7125 - val_accuracy: 0.5000\n",
      "Epoch 4/15\n",
      "326/326 [==============================] - 19s 36ms/step - loss: 0.5907 - accuracy: 0.8079 - val_loss: 0.7162 - val_accuracy: 0.5000\n",
      "Epoch 5/15\n",
      "326/326 [==============================] - 19s 36ms/step - loss: 0.4923 - accuracy: 0.8574 - val_loss: 0.7223 - val_accuracy: 0.5000\n",
      "Epoch 1/15\n",
      "326/326 [==============================] - 27s 52ms/step - loss: 0.2434 - accuracy: 0.9160 - val_loss: 1.8653 - val_accuracy: 0.5625\n",
      "Epoch 2/15\n",
      "326/326 [==============================] - 24s 53ms/step - loss: 0.2501 - accuracy: 0.9275 - val_loss: 1.9211 - val_accuracy: 0.5625\n",
      "Epoch 3/15\n",
      "326/326 [==============================] - 24s 53ms/step - loss: 0.3225 - accuracy: 0.9114 - val_loss: 0.5573 - val_accuracy: 0.6875\n",
      "Epoch 4/15\n",
      "326/326 [==============================] - 24s 53ms/step - loss: 0.2847 - accuracy: 0.8982 - val_loss: 2.3149 - val_accuracy: 0.5000\n",
      "Epoch 5/15\n",
      "326/326 [==============================] - 24s 53ms/step - loss: 0.2761 - accuracy: 0.9097 - val_loss: 2.0190 - val_accuracy: 0.5000\n",
      "Epoch 6/15\n",
      "326/326 [==============================] - 24s 53ms/step - loss: 0.2997 - accuracy: 0.9199 - val_loss: 1.4521 - val_accuracy: 0.6250\n"
     ]
    }
   ],
   "source": [
    "# 모델 학습\n",
    "cnn_history = cnn_model.fit(\n",
    "    train_ds,\n",
    "    validation_data=val_ds,\n",
    "    epochs=EPOCHS,\n",
    "    class_weight=class_weight,\n",
    "    callbacks=[early_stopping]\n",
    ")\n",
    "\n",
    "resnet_history = resnet_model.fit(\n",
    "    train_ds,\n",
    "    validation_data=val_ds,\n",
    "    epochs=EPOCHS,\n",
    "    class_weight=class_weight,\n",
    "    callbacks=[early_stopping]\n",
    ")"
   ]
  },
  {
   "cell_type": "markdown",
   "id": "3a6155fd",
   "metadata": {},
   "source": [
    "### 모델 결과 비교 (추가 개선 적용 후)\n",
    "\n",
    "| **모델**      | **Metric**         | **데이터 증강 전**        | **데이터 증강 후**       | **추가 개선 적용 후**       | **비교 결과**                  |\n",
    "|----------------|--------------------|---------------------------|--------------------------|-----------------------------|--------------------------------|\n",
    "| **CNN**       | Train Accuracy     | 91% ~ 94%                | 88% ~ 96%               | 81% ~ 85%                  | **소폭 하락 (EarlyStopping 영향)** |\n",
    "|                | Validation Accuracy| 62.5% ~ 68.75%           | 68.75% ~ 81.25%         | 50% ~ 62.5%                | **감소 (학습률 조정의 한계)**   |\n",
    "|                | Train Loss         | 감소하며 0.17 도달       | 감소하며 0.10 도달      | 0.49 ~ 0.59                | **소폭 증가**                  |\n",
    "|                | Validation Loss    | 일정하게 높음 (1.05 ~ 1.08)| 일부 감소 (0.38 ~ 3.85) | 감소 후 정체 (0.70 ~ 0.72) | **일부 개선 (Validation 안정화)** |\n",
    "| **ResNet-18**  | Train Accuracy     | 90% ~ 95%                | 88% ~ 92%               | 89% ~ 91%                  | **유지 또는 소폭 개선**         |\n",
    "|                | Validation Accuracy| 50% ~ 62.5%              | 50% ~ 62.5%             | 50% ~ 68.75%               | **소폭 개선 (Validation 향상)** |\n",
    "|                | Train Loss         | 안정적이나 높은 값 (0.24 수준) | 안정적 (0.24 수준)     | 안정적 (0.25 ~ 0.32 수준)  | **유지**                      |\n",
    "|                | Validation Loss    | 높은 값 유지 (2.20 ~ 5.88)| 감소 후 재증가 (0.69 ~ 3.97) | 감소 후 일부 개선 (0.55 ~ 1.45) | **개선 (EarlyStopping 도움)**  |\n",
    "\n",
    "---\n",
    "\n",
    "### 추가 개선 사항\n",
    "1. **데이터 증강 강화**:\n",
    "   - 대비 조정(`random_contrast`) 추가.\n",
    "   - 목표: 더 다양한 데이터 패턴 학습.\n",
    "\n",
    "2. **Dropout 추가**:\n",
    "   - CNN 모델의 과적합 방지 및 일반화 성능 개선을 위해 적용.\n",
    "   - Fully Connected Layer에 0.5 비율의 Dropout 추가.\n",
    "\n",
    "3. **학습률 스케줄링**:\n",
    "   - 학습률 초기값을 0.001로 설정하고 `ExponentialDecay` 스케줄링 적용.\n",
    "   - 목표: 초기 학습 안정화 및 과적합 방지.\n",
    "\n",
    "4. **EarlyStopping 적용**:\n",
    "   - 검증 손실이 개선되지 않을 경우 조기 종료.\n",
    "   - `patience=3` 설정으로 최적의 성능을 유지하며 불필요한 학습 방지.\n",
    "\n",
    "---\n"
   ]
  },
  {
   "cell_type": "code",
   "execution_count": 27,
   "id": "6c86b6b3",
   "metadata": {
    "scrolled": false
   },
   "outputs": [
    {
     "data": {
      "image/png": "[encoded data removed]",
      "text/plain": [
       "<Figure size 864x360 with 2 Axes>"
      ]
     },
     "metadata": {
      "needs_background": "light"
     },
     "output_type": "display_data"
    },
    {
     "data": {
      "image/png": "[encoded data removed]",
      "text/plain": [
       "<Figure size 864x360 with 2 Axes>"
      ]
     },
     "metadata": {
      "needs_background": "light"
     },
     "output_type": "display_data"
    }
   ],
   "source": [
    "# 결과 시각화를 위한 함수 정의\n",
    "def plot_history(history, model_name):\n",
    "    metrics = ['accuracy', 'loss']  # 시각화할 항목: 정확도와 손실\n",
    "    plt.figure(figsize=(12, 5))\n",
    "    \n",
    "    for i, metric in enumerate(metrics):\n",
    "        plt.subplot(1, 2, i + 1)\n",
    "        plt.plot(history.history[metric], label=f'Training {metric}')\n",
    "        plt.plot(history.history[f'val_{metric}'], label=f'Validation {metric}')\n",
    "        plt.title(f'{model_name} {metric.capitalize()}')\n",
    "        plt.xlabel('Epochs')\n",
    "        plt.ylabel(metric.capitalize())\n",
    "        plt.legend()\n",
    "        plt.grid(True)\n",
    "    \n",
    "    plt.tight_layout()\n",
    "    plt.show()\n",
    "\n",
    "# CNN 모델 학습 결과 시각화\n",
    "plot_history(cnn_history, \"CNN Model\")\n",
    "\n",
    "# ResNet-18 모델 학습 결과 시각화\n",
    "plot_history(resnet_history, \"ResNet-18 Model\")"
   ]
  },
  {
   "cell_type": "code",
   "execution_count": 28,
   "id": "7c62f58b",
   "metadata": {},
   "outputs": [
    {
     "name": "stdout",
     "output_type": "stream",
     "text": [
      "39/39 [==============================] - 1s 35ms/step - loss: 0.6670 - accuracy: 0.6250\n",
      "39/39 [==============================] - 2s 37ms/step - loss: 0.6413 - accuracy: 0.7019\n",
      "CNN Test Accuracy: 0.6250\n",
      "ResNet Test Accuracy: 0.7019\n"
     ]
    }
   ],
   "source": [
    "# 테스트 데이터 평가\n",
    "test_list_ds = tf.data.Dataset.from_tensor_slices(test_filenames)\n",
    "test_ds = test_list_ds.map(process_path).batch(BATCH_SIZE).prefetch(buffer_size=AUTOTUNE)\n",
    "\n",
    "cnn_loss, cnn_acc = cnn_model.evaluate(test_ds)\n",
    "resnet_loss, resnet_acc = resnet_model.evaluate(test_ds)\n",
    "\n",
    "print(f\"CNN Test Accuracy: {cnn_acc:.4f}\")\n",
    "print(f\"ResNet Test Accuracy: {resnet_acc:.4f}\")"
   ]
  },
  {
   "cell_type": "markdown",
   "id": "72e47d59",
   "metadata": {},
   "source": [
    "# 회고 및 개선점\n",
    "\n",
    "## 회고 (Reflection)\n",
    "\n",
    "- 이번 프로젝트를 통해 **의료영상 분류 문제**에서 CNN과 ResNet-18 모델의 성능을 비교하고, 데이터 증강과 클래스 불균형 처리 등의 기법이 성능에 미치는 영향을 이해할 수 있었습니다.\n",
    "\n",
    "- **성공한 점**:\n",
    "  - CNN 및 ResNet-18 모델을 구현하고 학습에 성공하였습니다.\n",
    "  - 데이터 증강, 클래스 불균형 처리, 학습률 스케줄링 등의 기법을 단계적으로 적용하여 학습 안정성을 높일 수 있었습니다.\n",
    "  - EarlyStopping을 활용하여 과적합을 방지하였고, Recall과 Validation 성능을 고려한 평가를 진행하였습니다.\n",
    "  - 사실 성능이 유의미하게 개선된 것인지는 모르겠습니다.\n",
    "  \n",
    "- **어려웠던 점**:\n",
    "  - ResNet-18 모델의 구조가 복잡하여 데이터 크기가 부족할 때 Validation 성능이 제한적이었습니다.\n",
    "  - 데이터 증강과 클래스 불균형 처리 기법의 효과를 정확히 측정하기 위해 더 많은 Ablation study가 필요했습니다.\n",
    "  - Ablation study를 하려고하니 코드를 아직 잘 모르는 상태여서 코드 적용 시 세세히 봐야하는 점이 어려웠습니다. 눈도 많이 아팠습니다. \n",
    "  - 폐렴 데이터에 더 높은 Recall을 부여하려는 시도가 Accuracy와의 트레이드오프를 초래하는 경우가 있었습니다.\n",
    "  - 최종 보고서를 따로 작성을 하려고 했지만 기술적으로 어려웠습니다. GPU 메모리가 부족하다는 OOM 오류가 발생했습니다. \n",
    "---\n",
    "\n",
    "## 개선점\n",
    "\n",
    "1. **모델 구조 간소화**:\n",
    "   - ResNet-18 대신 ResNet-10 또는 ResNet-8과 같은 간단한 네트워크 구조를 사용해 성능 최적화를 시도할 수 있습니다.\n",
    "   - 모델의 복잡도를 줄임으로써 과적합과 학습 불안정을 완화할 가능성이 있습니다.\n",
    "\n",
    "2. **데이터 증강 기법의 추가 실험**:\n",
    "   - 좌우 반전, 밝기 조절 외에도 확대, 회전, 잘라내기 등의 기법을 추가 적용할 수 있습니다.\n",
    "   - 각 증강 기법이 성능에 미치는 영향을 개별적으로 확인하는 Ablation Study를 수행하여 가장 효과적인 조합을 찾을 수 있습니다.\n",
    "\n",
    "3. **평가 지표 다각화**:\n",
    "   - Accuracy 외에도 Recall, Precision, F1-Score를 추가로 분석하여 모델 성능을 다각도로 평가해야 합니다.\n",
    "   - 의료영상 문제에서는 Recall이 특히 중요하므로 Recall을 향상시키는 방향의 최적화를 진행할 필요가 있습니다.\n",
    "\n",
    "4. **데이터셋 확장**:\n",
    "   - X-Ray 데이터의 샘플 수를 증가시키거나, 유사한 의료영상 데이터셋을 병합하여 모델 학습에 활용할 수 있습니다.\n",
    "\n",
    "---\n",
    "\n",
    "## 참고자료 (Reference)\n",
    "1. [TensorFlow 공식 문서](https://www.tensorflow.org/)\n",
    "   - 텐서플로우 기반 딥러닝 모델 구현 및 데이터 증강 기법 관련 문서.\n",
    "2. [ResNet 논문: Deep Residual Learning for Image Recognition](https://arxiv.org/abs/1512.03385)\n",
    "   - ResNet-18 모델 구조 및 Residual Block의 원리 설명.\n",
    "3. [Keras API 레퍼런스](https://keras.io/)\n",
    "   - Keras 모델 구성 및 학습 콜백(예: EarlyStopping) 관련 공식 문서.\n",
    "4. [Pneumonia Detection Dataset (Kaggle)](https://www.kaggle.com/paultimothymooney/chest-xray-pneumonia)\n",
    "   - 본 프로젝트에서 사용된 X-Ray 데이터셋의 출처.\n",
    "5. AI Friend(chat gpt)  \n"
   ]
  },
  {
   "cell_type": "code",
   "execution_count": null,
   "id": "09587b70",
   "metadata": {},
   "outputs": [],
   "source": []
  }
 ],
 "metadata": {
  "kernelspec": {
   "display_name": "Python 3 (ipykernel)",
   "language": "python",
   "name": "python3"
  },
  "language_info": {
   "codemirror_mode": {
    "name": "ipython",
    "version": 3
   },
   "file_extension": ".py",
   "mimetype": "text/x-python",
   "name": "python",
   "nbconvert_exporter": "python",
   "pygments_lexer": "ipython3",
   "version": "3.9.7"
  }
 },
 "nbformat": 4,
 "nbformat_minor": 5
}
