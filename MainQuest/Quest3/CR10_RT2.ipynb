{
 "cells": [
  {
   "cell_type": "markdown",
   "id": "21d06fc3",
   "metadata": {},
   "source": [
    "## 폐렴진단기 성능 개선 프로젝트"
   ]
  },
  {
   "cell_type": "markdown",
   "id": "779968b7",
   "metadata": {},
   "source": [
    "1. 개요\n",
    "\n",
    "목표는 CNN 기반의 의료영상 처리 모델을 구축하고 성능을 개선하는 것.\n",
    "다양한 실험(데이터 증강, 모델 구조 변경, ResNet-18 구현 등)을 통해 비교하고, 성능을 개선하는 것."
   ]
  },
  {
   "cell_type": "markdown",
   "id": "23c1bd15",
   "metadata": {},
   "source": [
    " <주요 목표>\n",
    "\n",
    "  CNN 기반 베이스 모델 구현 및 학습 안정화\n",
    "  데이터 증강(Data Augmentation) 기법 적용 후 성능 비교\n",
    "  모델 구조 변경 및 ResNet-18 구현 후 성능 비교\n",
    "  데이터 imblance 문제를 해결하기 위한 class weight 적용"
   ]
  },
  {
   "cell_type": "markdown",
   "id": "08faebc0",
   "metadata": {},
   "source": [
    "2. 목차\n",
    "\n",
    "  1.개요\n",
    "  \n",
    "  2.데이터 준비 및 전처리\n",
    "  \n",
    "  3.CNN 모델 구현 및 학습\n",
    "  \n",
    "  4.ResNet-18 모델 구현 및 학습\n",
    "  \n",
    "  5.성능 비교 및 결과 분석\n",
    "  \n",
    "  6.회고 및 개선점\n",
    "  \n",
    "  7.참고자료"
   ]
  },
  {
   "cell_type": "code",
   "execution_count": 5,
   "id": "f1b95846",
   "metadata": {},
   "outputs": [
    {
     "name": "stdout",
     "output_type": "stream",
     "text": [
      "2.6.0\n"
     ]
    }
   ],
   "source": [
    "import tensorflow\n",
    "print(tensorflow.__version__)"
   ]
  },
  {
   "cell_type": "code",
   "execution_count": 15,
   "id": "aef1d421",
   "metadata": {},
   "outputs": [],
   "source": [
    "#데이터전처리"
   ]
  },
  {
   "cell_type": "code",
   "execution_count": 4,
   "id": "62b724c4",
   "metadata": {},
   "outputs": [],
   "source": [
    "import os\n",
    "import random \n",
    "import math\n",
    "import numpy as np\n",
    "import tensorflow as tf\n",
    "import matplotlib.pyplot as plt\n",
    "from tensorflow.keras import layers, models\n",
    "from tensorflow.keras.preprocessing.image import ImageDataGenerator\n",
    "import warnings\n",
    "\n",
    "warnings.filterwarnings(\"ignore\")"
   ]
  },
  {
   "cell_type": "code",
   "execution_count": 5,
   "id": "6f2f8c17",
   "metadata": {},
   "outputs": [],
   "source": [
    "# 데이터 로드 속도 향상을 위한 설정\n",
    "AUTOTUNE = tf.data.experimental.AUTOTUNE\n",
    "IMAGE_SIZE = [180, 180]"
   ]
  },
  {
   "cell_type": "code",
   "execution_count": 6,
   "id": "ac47cc69",
   "metadata": {},
   "outputs": [],
   "source": [
    "# 데이터 경로 설정\n",
    "ROOT_PATH = os.path.join(os.getenv('HOME'), 'aiffel')\n",
    "TRAIN_PATH = os.path.join(ROOT_PATH, 'chest_xray/data/train/*/*')\n",
    "VAL_PATH = os.path.join(ROOT_PATH, 'chest_xray/data/val/*/*')\n",
    "TEST_PATH = os.path.join(ROOT_PATH, 'chest_xray/data/test/*/*')"
   ]
  },
  {
   "cell_type": "code",
   "execution_count": 7,
   "id": "4c172a5c",
   "metadata": {},
   "outputs": [],
   "source": [
    "#하이퍼 파라미터설정\n",
    "BATCH_SIZE = 16\n",
    "EPOCHS = 10"
   ]
  },
  {
   "cell_type": "code",
   "execution_count": 8,
   "id": "a7b6437e",
   "metadata": {},
   "outputs": [],
   "source": [
    "# 데이터 로드 및 확인\n",
    "train_filenames = tf.io.gfile.glob(TRAIN_PATH)\n",
    "val_filenames = tf.io.gfile.glob(VAL_PATH)\n",
    "test_filenames = tf.io.gfile.glob(TEST_PATH)"
   ]
  },
  {
   "cell_type": "code",
   "execution_count": 9,
   "id": "28ae5ea2",
   "metadata": {
    "scrolled": true
   },
   "outputs": [
    {
     "name": "stdout",
     "output_type": "stream",
     "text": [
      "Training samples: 5216\n",
      "Validation samples: 16\n",
      "Test samples: 624\n"
     ]
    }
   ],
   "source": [
    "print(f\"Training samples: {len(train_filenames)}\")\n",
    "print(f\"Validation samples: {len(val_filenames)}\")\n",
    "print(f\"Test samples: {len(test_filenames)}\")"
   ]
  },
  {
   "cell_type": "code",
   "execution_count": 10,
   "id": "d65830b2",
   "metadata": {},
   "outputs": [],
   "source": [
    "# TensorFlow Dataset 객체 생성\n",
    "train_list_ds = tf.data.Dataset.from_tensor_slices(train_filenames)\n",
    "val_list_ds = tf.data.Dataset.from_tensor_slices(val_filenames)"
   ]
  },
  {
   "cell_type": "code",
   "execution_count": 11,
   "id": "3f9e5372",
   "metadata": {},
   "outputs": [],
   "source": [
    "# 데이터 전처리: 파일 경로에서 레이블 추출\n",
    "def get_label(file_path):\n",
    "    parts = tf.strings.split(file_path, os.path.sep)\n",
    "    return tf.cast(parts[-2] == \"PNEUMONIA\", tf.float32)  # 폐렴=1, 정상=0"
   ]
  },
  {
   "cell_type": "code",
   "execution_count": 12,
   "id": "e8f58284",
   "metadata": {},
   "outputs": [],
   "source": [
    "# 이미지 디코딩 및 리사이즈\n",
    "def decode_img(img):\n",
    "    img = tf.image.decode_jpeg(img, channels=3)\n",
    "    img = tf.image.resize(img, IMAGE_SIZE)\n",
    "    img = tf.image.convert_image_dtype(img, tf.float32)  # [0, 1] 범위로 정규화\n",
    "    return img"
   ]
  },
  {
   "cell_type": "code",
   "execution_count": 13,
   "id": "55222c76",
   "metadata": {},
   "outputs": [],
   "source": [
    "# 파일 경로에서 이미지와 라벨 처리\n",
    "def process_path(file_path):\n",
    "    label = get_label(file_path)\n",
    "    img = tf.io.read_file(file_path)\n",
    "    img = decode_img(img)\n",
    "    return img, label"
   ]
  },
  {
   "cell_type": "code",
   "execution_count": 14,
   "id": "18bc92c0",
   "metadata": {},
   "outputs": [],
   "source": [
    "# 데이터 전처리 적용\n",
    "train_ds = train_list_ds.map(process_path, num_parallel_calls=AUTOTUNE)\n",
    "val_ds = val_list_ds.map(process_path, num_parallel_calls=AUTOTUNE)"
   ]
  },
  {
   "cell_type": "code",
   "execution_count": 15,
   "id": "d08c40d7",
   "metadata": {},
   "outputs": [],
   "source": [
    "# 데이터 증강 함수 정의\n",
    "def augment(image, label):\n",
    "    image = tf.image.random_flip_left_right(image)  # 좌우 반전\n",
    "    image = tf.image.random_brightness(image, max_delta=0.1)  # 밝기 조절\n",
    "    return image, label"
   ]
  },
  {
   "cell_type": "code",
   "execution_count": 16,
   "id": "2579d13a",
   "metadata": {},
   "outputs": [],
   "source": [
    "# 데이터 증강 적용\n",
    "train_ds = train_ds.map(augment, num_parallel_calls=AUTOTUNE)"
   ]
  },
  {
   "cell_type": "code",
   "execution_count": 17,
   "id": "04c3533d",
   "metadata": {},
   "outputs": [],
   "source": [
    "# 데이터 배치 및 최적화를 위한 설정\n",
    "train_ds = train_ds.shuffle(buffer_size=1000).batch(BATCH_SIZE).prefetch(buffer_size=AUTOTUNE)\n",
    "val_ds = val_ds.batch(BATCH_SIZE).prefetch(buffer_size=AUTOTUNE)"
   ]
  },
  {
   "cell_type": "code",
   "execution_count": 18,
   "id": "bccffa10",
   "metadata": {},
   "outputs": [
    {
     "name": "stdout",
     "output_type": "stream",
     "text": [
      "Weight for NORMAL: 1.94\n",
      "Weight for PNEUMONIA: 0.67\n"
     ]
    }
   ],
   "source": [
    "# 데이터 클래스 불균형 처리\n",
    "count_normal = len([f for f in train_filenames if \"NORMAL\" in f])\n",
    "count_pneumonia = len(train_filenames) - count_normal\n",
    "weight_normal = 1 / count_normal * len(train_filenames) / 2.0\n",
    "weight_pneumonia = 1 / count_pneumonia * len(train_filenames) / 2.0\n",
    "class_weight = {0: weight_normal, 1: weight_pneumonia}\n",
    "\n",
    "print(f\"Weight for NORMAL: {weight_normal:.2f}\")\n",
    "print(f\"Weight for PNEUMONIA: {weight_pneumonia:.2f}\")"
   ]
  },
  {
   "cell_type": "code",
   "execution_count": 19,
   "id": "b293ec8e",
   "metadata": {},
   "outputs": [],
   "source": [
    "# CNN 모델 정의\n",
    "def build_cnn_model():\n",
    "    model = tf.keras.Sequential([\n",
    "        tf.keras.layers.Conv2D(32, (3, 3), activation='relu', input_shape=(180, 180, 3)),\n",
    "        tf.keras.layers.MaxPooling2D((2, 2)),\n",
    "        tf.keras.layers.Conv2D(64, (3, 3), activation='relu'),\n",
    "        tf.keras.layers.MaxPooling2D((2, 2)),\n",
    "        tf.keras.layers.Conv2D(128, (3, 3), activation='relu'),\n",
    "        tf.keras.layers.MaxPooling2D((2, 2)),\n",
    "        tf.keras.layers.Flatten(),\n",
    "        tf.keras.layers.Dense(128, activation='relu'),\n",
    "        tf.keras.layers.Dense(1, activation='sigmoid')\n",
    "    ])\n",
    "    return model"
   ]
  },
  {
   "cell_type": "code",
   "execution_count": 20,
   "id": "c95dec2a",
   "metadata": {},
   "outputs": [],
   "source": [
    "# CNN 모델 컴파일\n",
    "cnn_model = build_cnn_model()\n",
    "cnn_model.compile(\n",
    "    optimizer='adam',\n",
    "    loss='binary_crossentropy',\n",
    "    metrics=['accuracy']\n",
    ")"
   ]
  },
  {
   "cell_type": "code",
   "execution_count": 22,
   "id": "f8eb98a8",
   "metadata": {},
   "outputs": [],
   "source": [
    "# ResNet-18 모델 정의\n",
    "def resnet_block(input_layer, filters, stride=1):\n",
    "    x = tf.keras.layers.Conv2D(filters, (3, 3), strides=stride, padding='same', activation='relu')(input_layer)\n",
    "    x = tf.keras.layers.BatchNormalization()(x)\n",
    "    x = tf.keras.layers.Conv2D(filters, (3, 3), strides=1, padding='same', activation=None)(x)\n",
    "    x = tf.keras.layers.BatchNormalization()(x)\n",
    "    if stride != 1 or input_layer.shape[-1] != filters:\n",
    "        input_layer = tf.keras.layers.Conv2D(filters, (1, 1), strides=stride, padding='same')(input_layer)\n",
    "    x = tf.keras.layers.add([x, input_layer])\n",
    "    return tf.keras.layers.Activation('relu')(x)\n",
    "\n",
    "def build_resnet18():\n",
    "    input_layer = tf.keras.layers.Input(shape=(180, 180, 3))\n",
    "    x = tf.keras.layers.Conv2D(64, (7, 7), strides=2, padding='same', activation='relu')(input_layer)\n",
    "    x = tf.keras.layers.BatchNormalization()(x)\n",
    "    x = tf.keras.layers.MaxPooling2D((3, 3), strides=2, padding='same')(x)\n",
    "    x = resnet_block(x, 64)\n",
    "    x = resnet_block(x, 64)\n",
    "    x = resnet_block(x, 128, stride=2)\n",
    "    x = resnet_block(x, 128)\n",
    "    x = resnet_block(x, 256, stride=2)\n",
    "    x = resnet_block(x, 256)\n",
    "    x = resnet_block(x, 512, stride=2)\n",
    "    x = resnet_block(x, 512)\n",
    "    x = tf.keras.layers.GlobalAveragePooling2D()(x)\n",
    "    output_layer = tf.keras.layers.Dense(1, activation='sigmoid')(x)\n",
    "    return tf.keras.Model(input_layer, output_layer)"
   ]
  },
  {
   "cell_type": "code",
   "execution_count": 23,
   "id": "c47c5213",
   "metadata": {},
   "outputs": [],
   "source": [
    "# ResNet-18 모델 컴파일\n",
    "resnet_model = build_resnet18()\n",
    "resnet_model.compile(\n",
    "    optimizer='adam',\n",
    "    loss='binary_crossentropy',\n",
    "    metrics=['accuracy']\n",
    ")"
   ]
  },
  {
   "cell_type": "code",
   "execution_count": 24,
   "id": "23964b2e",
   "metadata": {
    "scrolled": true
   },
   "outputs": [
    {
     "name": "stdout",
     "output_type": "stream",
     "text": [
      "Epoch 1/10\n",
      "326/326 [==============================] - 22s 33ms/step - loss: 38.7680 - accuracy: 0.8873 - val_loss: 0.8572 - val_accuracy: 0.6875\n",
      "Epoch 2/10\n",
      "326/326 [==============================] - 18s 35ms/step - loss: 0.2497 - accuracy: 0.9342 - val_loss: 1.0178 - val_accuracy: 0.6875\n",
      "Epoch 3/10\n",
      "326/326 [==============================] - 18s 35ms/step - loss: 0.2021 - accuracy: 0.9335 - val_loss: 0.8227 - val_accuracy: 0.6875\n",
      "Epoch 4/10\n",
      "326/326 [==============================] - 18s 35ms/step - loss: 0.2782 - accuracy: 0.9402 - val_loss: 0.3851 - val_accuracy: 0.7500\n",
      "Epoch 5/10\n",
      "326/326 [==============================] - 18s 34ms/step - loss: 0.1034 - accuracy: 0.9622 - val_loss: 0.7807 - val_accuracy: 0.7500\n",
      "Epoch 6/10\n",
      "326/326 [==============================] - 18s 35ms/step - loss: 0.1413 - accuracy: 0.9632 - val_loss: 1.5016 - val_accuracy: 0.6875\n",
      "Epoch 7/10\n",
      "326/326 [==============================] - 18s 34ms/step - loss: 0.2077 - accuracy: 0.9515 - val_loss: 0.6353 - val_accuracy: 0.8125\n",
      "Epoch 8/10\n",
      "326/326 [==============================] - 18s 35ms/step - loss: 0.2319 - accuracy: 0.9557 - val_loss: 1.1237 - val_accuracy: 0.7500\n",
      "Epoch 9/10\n",
      "326/326 [==============================] - 18s 34ms/step - loss: 0.1191 - accuracy: 0.9538 - val_loss: 0.8306 - val_accuracy: 0.7500\n",
      "Epoch 10/10\n",
      "326/326 [==============================] - 18s 35ms/step - loss: 0.1456 - accuracy: 0.9567 - val_loss: 3.8572 - val_accuracy: 0.5625\n",
      "Epoch 1/10\n",
      "326/326 [==============================] - 27s 53ms/step - loss: 0.2422 - accuracy: 0.9089 - val_loss: 2.4686 - val_accuracy: 0.5000\n",
      "Epoch 2/10\n",
      "326/326 [==============================] - 24s 53ms/step - loss: 0.2841 - accuracy: 0.9107 - val_loss: 0.6958 - val_accuracy: 0.6250\n",
      "Epoch 3/10\n",
      "326/326 [==============================] - 24s 52ms/step - loss: 0.3323 - accuracy: 0.8869 - val_loss: 1.7526 - val_accuracy: 0.5000\n",
      "Epoch 4/10\n",
      "326/326 [==============================] - 24s 53ms/step - loss: 0.3147 - accuracy: 0.9036 - val_loss: 2.4565 - val_accuracy: 0.5000\n",
      "Epoch 5/10\n",
      "326/326 [==============================] - 24s 53ms/step - loss: 0.3236 - accuracy: 0.8990 - val_loss: 3.9791 - val_accuracy: 0.5000\n",
      "Epoch 6/10\n",
      "326/326 [==============================] - 24s 52ms/step - loss: 0.2970 - accuracy: 0.9101 - val_loss: 1.5091 - val_accuracy: 0.5625\n",
      "Epoch 7/10\n",
      "326/326 [==============================] - 24s 52ms/step - loss: 0.2708 - accuracy: 0.9130 - val_loss: 3.1122 - val_accuracy: 0.5000\n",
      "Epoch 8/10\n",
      "326/326 [==============================] - 24s 53ms/step - loss: 0.2541 - accuracy: 0.9193 - val_loss: 2.5337 - val_accuracy: 0.5000\n",
      "Epoch 9/10\n",
      "326/326 [==============================] - 24s 52ms/step - loss: 0.2569 - accuracy: 0.9174 - val_loss: 3.3997 - val_accuracy: 0.5000\n",
      "Epoch 10/10\n",
      "326/326 [==============================] - 24s 52ms/step - loss: 0.2737 - accuracy: 0.9225 - val_loss: 1.2732 - val_accuracy: 0.5000\n"
     ]
    }
   ],
   "source": [
    "# 모델 학습\n",
    "cnn_history = cnn_model.fit(\n",
    "    train_ds,\n",
    "    validation_data=val_ds,\n",
    "    epochs=EPOCHS,\n",
    "    class_weight=class_weight\n",
    ")\n",
    "\n",
    "resnet_history = resnet_model.fit(\n",
    "    train_ds,\n",
    "    validation_data=val_ds,\n",
    "    epochs=EPOCHS,\n",
    "    class_weight=class_weight\n",
    ")"
   ]
  },
  {
   "cell_type": "markdown",
   "id": "8e248d2a",
   "metadata": {},
   "source": [
    "### 모델 결과 비교\n",
    "\n",
    "| **모델**      | **Metric**         | **이전 결과**                   | **현재 결과**                 | **개선 여부**                   |\n",
    "|----------------|--------------------|----------------------------------|--------------------------------|----------------------------------|\n",
    "| **CNN**       | Train Accuracy     | 91% ~ 94%                       | 88% ~ 96%                     | **개선됨 (소폭 증가)**           |\n",
    "|                | Validation Accuracy| 62.5% ~ 68.75%                  | 68.75% ~ 81.25%               | **개선됨 (명확한 증가)**         |\n",
    "|                | Train Loss         | 감소하며 0.17 도달              | 감소하며 0.10 도달            | **개선됨 (더 낮은 손실)**        |\n",
    "|                | Validation Loss    | 일정하게 높음 (1.05 ~ 1.08)     | 일부 감소 (0.38 ~ 3.85)       | **부분 개선 (초기 감소)**        |\n",
    "| **ResNet-18**  | Train Accuracy     | 90% ~ 95%                       | 88% ~ 92%                     | **소폭 하락**                    |\n",
    "|                | Validation Accuracy| 50% ~ 62.5%                     | 50% ~ 62.5%                   | **변화 없음**                   |\n",
    "|                | Train Loss         | 안정적이나 높은 값 (0.24 수준)  | 안정적 (0.24 수준)            | **변화 없음**                   |\n",
    "|                | Validation Loss    | 높은 값 유지 (2.20 ~ 5.88)      | 감소 후 다시 증가 (0.69 ~ 3.97)| **부분 개선 (초기 감소)**        |\n",
    "\n"
   ]
  },
  {
   "cell_type": "code",
   "execution_count": 25,
   "id": "b5fcc228",
   "metadata": {},
   "outputs": [
    {
     "data": {
      "image/png": "[encoded data removed]",
      "text/plain": [
       "<Figure size 432x288 with 1 Axes>"
      ]
     },
     "metadata": {
      "needs_background": "light"
     },
     "output_type": "display_data"
    },
    {
     "data": {
      "image/png": "[encoded data removed]",
      "text/plain": [
       "<Figure size 432x288 with 1 Axes>"
      ]
     },
     "metadata": {
      "needs_background": "light"
     },
     "output_type": "display_data"
    },
    {
     "data": {
      "image/png": "[encoded data removed]",
      "text/plain": [
       "<Figure size 432x288 with 1 Axes>"
      ]
     },
     "metadata": {
      "needs_background": "light"
     },
     "output_type": "display_data"
    },
    {
     "data": {
      "image/png": "[encoded data removed]",
      "text/plain": [
       "<Figure size 432x288 with 1 Axes>"
      ]
     },
     "metadata": {
      "needs_background": "light"
     },
     "output_type": "display_data"
    }
   ],
   "source": [
    "# **결과 시각화**\n",
    "def plot_history(history, model_name):\n",
    "    metrics = ['accuracy', 'loss']\n",
    "    for metric in metrics:\n",
    "        plt.plot(history.history[metric], label=f'{metric}')\n",
    "        plt.plot(history.history[f'val_{metric}'], label=f'val_{metric}')\n",
    "        plt.title(f'{model_name} {metric}')\n",
    "        plt.legend()\n",
    "        plt.show()\n",
    "\n",
    "plot_history(cnn_history, \"CNN\")\n",
    "plot_history(resnet_history, \"ResNet-18\")"
   ]
  },
  {
   "cell_type": "code",
   "execution_count": 26,
   "id": "804f1c33",
   "metadata": {},
   "outputs": [
    {
     "name": "stdout",
     "output_type": "stream",
     "text": [
      "39/39 [==============================] - 1s 35ms/step - loss: 4.6129 - accuracy: 0.6266\n",
      "39/39 [==============================] - 2s 37ms/step - loss: 1.0306 - accuracy: 0.6843\n",
      "CNN Test Accuracy: 0.6266\n",
      "ResNet Test Accuracy: 0.6843\n"
     ]
    }
   ],
   "source": [
    "# 테스트 데이터 평가\n",
    "test_list_ds = tf.data.Dataset.from_tensor_slices(test_filenames)\n",
    "test_ds = test_list_ds.map(process_path).batch(BATCH_SIZE).prefetch(buffer_size=AUTOTUNE)\n",
    "\n",
    "cnn_loss, cnn_acc = cnn_model.evaluate(test_ds)\n",
    "resnet_loss, resnet_acc = resnet_model.evaluate(test_ds)\n",
    "\n",
    "print(f\"CNN Test Accuracy: {cnn_acc:.4f}\")\n",
    "print(f\"ResNet Test Accuracy: {resnet_acc:.4f}\")"
   ]
  }
 ],
 "metadata": {
  "kernelspec": {
   "display_name": "Python 3 (ipykernel)",
   "language": "python",
   "name": "python3"
  },
  "language_info": {
   "codemirror_mode": {
    "name": "ipython",
    "version": 3
   },
   "file_extension": ".py",
   "mimetype": "text/x-python",
   "name": "python",
   "nbconvert_exporter": "python",
   "pygments_lexer": "ipython3",
   "version": "3.9.7"
  }
 },
 "nbformat": 4,
 "nbformat_minor": 5
}
