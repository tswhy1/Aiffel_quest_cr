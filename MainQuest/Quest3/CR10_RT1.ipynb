{
 "cells": [
  {
   "cell_type": "markdown",
   "id": "34f62da2",
   "metadata": {},
   "source": [
    "## 폐렴진단기 성능 개선 프로젝트"
   ]
  },
  {
   "cell_type": "markdown",
   "id": "7c8dcc4e",
   "metadata": {},
   "source": [
    "1. 개요\n",
    "\n",
    "목표는 CNN 기반의 의료영상 처리 모델을 구축하고 성능을 개선하는 것.\n",
    "다양한 실험(데이터 증강, 모델 구조 변경, ResNet-18 구현 등)을 통해 비교하고, 성능을 개선하는 것."
   ]
  },
  {
   "cell_type": "markdown",
   "id": "d0d7cead",
   "metadata": {},
   "source": [
    " <주요 목표>\n",
    "\n",
    "  CNN 기반 베이스 모델 구현 및 학습 안정화\n",
    "  데이터 증강(Data Augmentation) 기법 적용 후 성능 비교\n",
    "  모델 구조 변경 및 ResNet-18 구현 후 성능 비교\n",
    "  데이터 imblance 문제를 해결하기 위한 class weight 적용"
   ]
  },
  {
   "cell_type": "markdown",
   "id": "d48086de",
   "metadata": {},
   "source": [
    "2. 목차\n",
    "\n",
    "  1.개요\n",
    "  \n",
    "  2.데이터 준비 및 전처리\n",
    "  \n",
    "  3.CNN 모델 구현 및 학습\n",
    "  \n",
    "  4.ResNet-18 모델 구현 및 학습\n",
    "  \n",
    "  5.성능 비교 및 결과 분석\n",
    "  \n",
    "  6.회고 및 개선점\n",
    "  \n",
    "  7.참고자료"
   ]
  },
  {
   "cell_type": "code",
   "execution_count": 5,
   "id": "80e68ca5",
   "metadata": {},
   "outputs": [
    {
     "name": "stdout",
     "output_type": "stream",
     "text": [
      "2.6.0\n"
     ]
    }
   ],
   "source": [
    "import tensorflow\n",
    "print(tensorflow.__version__)"
   ]
  },
  {
   "cell_type": "code",
   "execution_count": 15,
   "id": "2cacffa0",
   "metadata": {},
   "outputs": [],
   "source": [
    "#데이터전처리"
   ]
  },
  {
   "cell_type": "code",
   "execution_count": 18,
   "id": "c3bb5279",
   "metadata": {},
   "outputs": [],
   "source": [
    "import os\n",
    "import random \n",
    "import math\n",
    "import numpy as np\n",
    "import tensorflow as tf\n",
    "import matplotlib.pyplot as plt\n",
    "from tensorflow.keras import layers, models\n",
    "from tensorflow.keras.preprocessing.image import ImageDataGenerator\n",
    "import warnings\n",
    "\n",
    "warnings.filterwarnings(\"ignore\")"
   ]
  },
  {
   "cell_type": "code",
   "execution_count": 19,
   "id": "52c7ec16",
   "metadata": {},
   "outputs": [],
   "source": [
    "# 데이터 로드 속도 향상을 위한 설정\n",
    "AUTOTUNE = tf.data.experimental.AUTOTUNE\n",
    "IMAGE_SIZE = [180, 180]"
   ]
  },
  {
   "cell_type": "code",
   "execution_count": 20,
   "id": "fa9b6676",
   "metadata": {},
   "outputs": [],
   "source": [
    "# 데이터 경로 설정\n",
    "ROOT_PATH = os.path.join(os.getenv('HOME'), 'aiffel')\n",
    "TRAIN_PATH = os.path.join(ROOT_PATH, 'chest_xray/data/train/*/*')\n",
    "VAL_PATH = os.path.join(ROOT_PATH, 'chest_xray/data/val/*/*')\n",
    "TEST_PATH = os.path.join(ROOT_PATH, 'chest_xray/data/test/*/*')"
   ]
  },
  {
   "cell_type": "code",
   "execution_count": 21,
   "id": "ac5fb55b",
   "metadata": {},
   "outputs": [],
   "source": [
    "#하이퍼 파라미터설정\n",
    "BATCH_SIZE = 16\n",
    "EPOCHS = 10"
   ]
  },
  {
   "cell_type": "code",
   "execution_count": 22,
   "id": "5115bf69",
   "metadata": {},
   "outputs": [],
   "source": [
    "# 데이터 로드 및 확인\n",
    "train_filenames = tf.io.gfile.glob(TRAIN_PATH)\n",
    "val_filenames = tf.io.gfile.glob(VAL_PATH)\n",
    "test_filenames = tf.io.gfile.glob(TEST_PATH)"
   ]
  },
  {
   "cell_type": "code",
   "execution_count": 23,
   "id": "60e0a310",
   "metadata": {},
   "outputs": [
    {
     "name": "stdout",
     "output_type": "stream",
     "text": [
      "Training samples: 5216\n",
      "Validation samples: 16\n",
      "Test samples: 624\n"
     ]
    }
   ],
   "source": [
    "print(f\"Training samples: {len(train_filenames)}\")\n",
    "print(f\"Validation samples: {len(val_filenames)}\")\n",
    "print(f\"Test samples: {len(test_filenames)}\")"
   ]
  },
  {
   "cell_type": "code",
   "execution_count": 24,
   "id": "34c93779",
   "metadata": {},
   "outputs": [],
   "source": [
    "# 데이터 전처리: 파일 경로에서 레이블 추출\n",
    "def get_label(file_path):\n",
    "    parts = tf.strings.split(file_path, os.path.sep)\n",
    "    return tf.cast(parts[-2] == \"PNEUMONIA\", tf.float32)  # 폐렴=1, 정상=0"
   ]
  },
  {
   "cell_type": "code",
   "execution_count": 25,
   "id": "ce7d23c7",
   "metadata": {},
   "outputs": [],
   "source": [
    "# 이미지 디코딩 및 리사이즈\n",
    "def decode_img(img):\n",
    "    img = tf.image.decode_jpeg(img, channels=3)\n",
    "    img = tf.image.resize(img, IMAGE_SIZE)\n",
    "    img = tf.image.convert_image_dtype(img, tf.float32)  # [0, 1] 범위로 정규화\n",
    "    return img"
   ]
  },
  {
   "cell_type": "code",
   "execution_count": 26,
   "id": "8b00df64",
   "metadata": {},
   "outputs": [],
   "source": [
    "# 파일 경로에서 이미지와 라벨 처리\n",
    "def process_path(file_path):\n",
    "    label = get_label(file_path)\n",
    "    img = tf.io.read_file(file_path)\n",
    "    img = decode_img(img)\n",
    "    return img, label"
   ]
  },
  {
   "cell_type": "code",
   "execution_count": 27,
   "id": "66273a06",
   "metadata": {},
   "outputs": [],
   "source": [
    "# TensorFlow Dataset 구성\n",
    "def prepare_dataset(filepaths):\n",
    "    dataset = tf.data.Dataset.from_tensor_slices(filepaths)\n",
    "    dataset = dataset.map(process_path, num_parallel_calls=AUTOTUNE)\n",
    "    dataset = dataset.shuffle(1000).batch(BATCH_SIZE).prefetch(buffer_size=AUTOTUNE)\n",
    "    return dataset"
   ]
  },
  {
   "cell_type": "code",
   "execution_count": 28,
   "id": "bcbbe16c",
   "metadata": {},
   "outputs": [],
   "source": [
    "train_ds = prepare_dataset(train_filenames)\n",
    "val_ds = prepare_dataset(val_filenames)\n",
    "test_ds = prepare_dataset(test_filenames)"
   ]
  },
  {
   "cell_type": "code",
   "execution_count": 29,
   "id": "6148f560",
   "metadata": {},
   "outputs": [
    {
     "name": "stdout",
     "output_type": "stream",
     "text": [
      "Weight for NORMAL: 1.94\n",
      "Weight for PNEUMONIA: 0.67\n"
     ]
    }
   ],
   "source": [
    "# 데이터 imbalance 처리: class_weight 계산\n",
    "count_normal = len([f for f in train_filenames if \"NORMAL\" in f])\n",
    "count_pneumonia = len(train_filenames) - count_normal\n",
    "weight_normal = 1 / count_normal * len(train_filenames) / 2.0\n",
    "weight_pneumonia = 1 / count_pneumonia * len(train_filenames) / 2.0\n",
    "class_weight = {0: weight_normal, 1: weight_pneumonia}\n",
    "\n",
    "print(f\"Weight for NORMAL: {weight_normal:.2f}\")\n",
    "print(f\"Weight for PNEUMONIA: {weight_pneumonia:.2f}\")"
   ]
  },
  {
   "cell_type": "code",
   "execution_count": 30,
   "id": "82322946",
   "metadata": {},
   "outputs": [],
   "source": [
    "# **Step 1: CNN 모델 구현**\n",
    "def build_cnn_model():\n",
    "    model = models.Sequential([\n",
    "        layers.Conv2D(32, (3, 3), activation='relu', input_shape=(180, 180, 3)),\n",
    "        layers.MaxPooling2D((2, 2)),\n",
    "        layers.Conv2D(64, (3, 3), activation='relu'),\n",
    "        layers.MaxPooling2D((2, 2)),\n",
    "        layers.Conv2D(128, (3, 3), activation='relu'),\n",
    "        layers.MaxPooling2D((2, 2)),\n",
    "        layers.Flatten(),\n",
    "        layers.Dense(128, activation='relu'),\n",
    "        layers.Dense(1, activation='sigmoid')\n",
    "    ])\n",
    "    return model\n",
    "\n",
    "cnn_model = build_cnn_model()\n",
    "cnn_model.compile(optimizer='adam', loss='binary_crossentropy', metrics=['accuracy'])\n"
   ]
  },
  {
   "cell_type": "code",
   "execution_count": 33,
   "id": "d605cc02",
   "metadata": {},
   "outputs": [],
   "source": [
    "# **Step 2: ResNet-18 모델 구현**\n",
    "def resnet_block(input_layer, filters, stride=1):\n",
    "    x = layers.Conv2D(filters, (3, 3), strides=stride, padding='same', activation='relu')(input_layer)\n",
    "    x = layers.BatchNormalization()(x)\n",
    "    x = layers.Conv2D(filters, (3, 3), strides=1, padding='same', activation=None)(x)\n",
    "    x = layers.BatchNormalization()(x)\n",
    "\n",
    "    # Residual connection(skip connection)\n",
    "    if stride != 1 or input_layer.shape[-1] != filters:\n",
    "        input_layer = layers.Conv2D(filters, (1, 1), strides=stride, padding='same')(input_layer)\n",
    "    x = layers.add([x, input_layer])\n",
    "    return layers.Activation('relu')(x)"
   ]
  },
  {
   "cell_type": "code",
   "execution_count": 34,
   "id": "432cef58",
   "metadata": {},
   "outputs": [],
   "source": [
    "def build_resnet18():\n",
    "    input_layer = layers.Input(shape=(180, 180, 3))\n",
    "    x = layers.Conv2D(64, (7, 7), strides=2, padding='same', activation='relu')(input_layer)\n",
    "    x = layers.BatchNormalization()(x)\n",
    "    x = layers.MaxPooling2D((3, 3), strides=2, padding='same')(x)\n",
    "\n",
    "    x = resnet_block(x, 64, stride=1)\n",
    "    x = resnet_block(x, 64, stride=1)\n",
    "    x = resnet_block(x, 128, stride=2)\n",
    "    x = resnet_block(x, 128, stride=1)\n",
    "    x = resnet_block(x, 256, stride=2)\n",
    "    x = resnet_block(x, 256, stride=1)\n",
    "    x = resnet_block(x, 512, stride=2)\n",
    "    x = resnet_block(x, 512, stride=1)\n",
    "\n",
    "    x = layers.GlobalAveragePooling2D()(x)\n",
    "    output_layer = layers.Dense(1, activation='sigmoid')(x)\n",
    "\n",
    "    return models.Model(input_layer, output_layer)\n",
    "\n",
    "resnet_model = build_resnet18()\n",
    "resnet_model.compile(optimizer='adam', loss='binary_crossentropy', metrics=['accuracy'])\n"
   ]
  },
  {
   "cell_type": "code",
   "execution_count": 35,
   "id": "c2d7e593",
   "metadata": {},
   "outputs": [
    {
     "name": "stdout",
     "output_type": "stream",
     "text": [
      "Epoch 1/10\n",
      "326/326 [==============================] - 70s 33ms/step - loss: 27.1297 - accuracy: 0.9087 - val_loss: 1.0512 - val_accuracy: 0.6250\n",
      "Epoch 2/10\n",
      "326/326 [==============================] - 17s 33ms/step - loss: 0.1682 - accuracy: 0.9546 - val_loss: 0.9243 - val_accuracy: 0.6875\n",
      "Epoch 3/10\n",
      "326/326 [==============================] - 17s 33ms/step - loss: 0.2709 - accuracy: 0.9396 - val_loss: 1.3269 - val_accuracy: 0.5625\n",
      "Epoch 4/10\n",
      "326/326 [==============================] - 17s 33ms/step - loss: 1.5296 - accuracy: 0.9112 - val_loss: 0.9895 - val_accuracy: 0.6250\n",
      "Epoch 5/10\n",
      "326/326 [==============================] - 17s 33ms/step - loss: 0.3341 - accuracy: 0.9371 - val_loss: 1.0470 - val_accuracy: 0.6250\n",
      "Epoch 6/10\n",
      "326/326 [==============================] - 17s 33ms/step - loss: 0.3226 - accuracy: 0.9314 - val_loss: 0.6407 - val_accuracy: 0.8125\n",
      "Epoch 7/10\n",
      "326/326 [==============================] - 18s 33ms/step - loss: 0.3312 - accuracy: 0.9287 - val_loss: 1.0691 - val_accuracy: 0.6875\n",
      "Epoch 8/10\n",
      "326/326 [==============================] - 17s 33ms/step - loss: 0.2241 - accuracy: 0.9300 - val_loss: 1.0518 - val_accuracy: 0.6875\n",
      "Epoch 9/10\n",
      "326/326 [==============================] - 18s 33ms/step - loss: 0.1847 - accuracy: 0.9379 - val_loss: 0.8099 - val_accuracy: 0.7500\n",
      "Epoch 10/10\n",
      "326/326 [==============================] - 17s 33ms/step - loss: 0.1700 - accuracy: 0.9459 - val_loss: 1.0871 - val_accuracy: 0.6875\n",
      "Epoch 1/10\n",
      "326/326 [==============================] - 27s 52ms/step - loss: 0.2164 - accuracy: 0.9254 - val_loss: 5.8812 - val_accuracy: 0.5000\n",
      "Epoch 2/10\n",
      "326/326 [==============================] - 24s 53ms/step - loss: 0.2689 - accuracy: 0.9201 - val_loss: 1.3618 - val_accuracy: 0.5625\n",
      "Epoch 3/10\n",
      "326/326 [==============================] - 24s 53ms/step - loss: 0.2834 - accuracy: 0.9170 - val_loss: 1.6770 - val_accuracy: 0.5000\n",
      "Epoch 4/10\n",
      "326/326 [==============================] - 24s 52ms/step - loss: 0.2375 - accuracy: 0.9285 - val_loss: 1.1332 - val_accuracy: 0.6250\n",
      "Epoch 5/10\n",
      "326/326 [==============================] - 24s 52ms/step - loss: 0.2628 - accuracy: 0.9212 - val_loss: 2.8505 - val_accuracy: 0.5000\n",
      "Epoch 6/10\n",
      "326/326 [==============================] - 24s 52ms/step - loss: 0.2191 - accuracy: 0.9270 - val_loss: 0.7267 - val_accuracy: 0.5625\n",
      "Epoch 7/10\n",
      "326/326 [==============================] - 24s 52ms/step - loss: 0.2095 - accuracy: 0.9396 - val_loss: 2.4949 - val_accuracy: 0.5000\n",
      "Epoch 8/10\n",
      "326/326 [==============================] - 24s 52ms/step - loss: 0.1888 - accuracy: 0.9392 - val_loss: 1.5025 - val_accuracy: 0.5625\n",
      "Epoch 9/10\n",
      "326/326 [==============================] - 24s 52ms/step - loss: 0.1752 - accuracy: 0.9486 - val_loss: 2.3498 - val_accuracy: 0.5000\n",
      "Epoch 10/10\n",
      "326/326 [==============================] - 24s 52ms/step - loss: 0.1603 - accuracy: 0.9502 - val_loss: 2.2026 - val_accuracy: 0.5000\n"
     ]
    }
   ],
   "source": [
    "# **모델 학습 및 성능 비교**\n",
    "cnn_history = cnn_model.fit(train_ds, validation_data=val_ds, epochs=EPOCHS, class_weight=class_weight)\n",
    "resnet_history = resnet_model.fit(train_ds, validation_data=val_ds, epochs=EPOCHS, class_weight=class_weight)"
   ]
  },
  {
   "cell_type": "markdown",
   "id": "710f3463",
   "metadata": {},
   "source": [
    "CNN 베이스 모델 학습 결과\n",
    "Train Accuracy: 학습 데이터셋에 대해 꾸준히 90% 이상의 정확도를 유지, 마지막 에포크에서는 94.59%를 기록.\n",
    "Validation Accuracy: 검증 데이터셋에 대해 초기에는 62.5%에서 시작, 마지막 에포크에서도 68.75% 수준으로 큰 개선은 없었음.\n",
    "Train Loss: 학습 손실 값은 안정적으로 감소, 마지막 에포크에서 0.17 기록.\n",
    "Validation Loss: 검증 손실 값은 초기에는 1.05에서 시작했으나 최종적으로 1.08로 다시 증가.\n",
    "\n",
    "학습 데이터에서 매우 높은 정확도와 낮은 손실을 보이지만, 검증 데이터에서의 정확도와 손실이 개선되지 않는 점을 볼 때 과적합이 발생한 것으로 보임.\n",
    "Validation Loss가 일정한 패턴 없이 증가하는 모습은 모델이 검증 데이터에 일반화되지 못한 것으로 보임.\n",
    "\n",
    "ResNet-18 학습 결과\n",
    "Train Accuracy: 학습 데이터셋에 대해 약 92_95% 수준의 정확도를 기록, CNN 모델과 비슷한 수준으로 학습.\n",
    "Validation Accuracy: 검증 데이터셋에 대해 초기 50_62.5%를 기록, 이후 다시 50%로 감소하는 경향.\n",
    "Train Loss: 학습 손실 값은 0.16까지 안정적으로 감소.\n",
    "Validation Loss: 검증 손실 값은  5.88에서 시작하여 최종적으로 2.20으로 감소했지만, 여전히 높은 값을 유지함."
   ]
  },
  {
   "cell_type": "code",
   "execution_count": 36,
   "id": "cbf350b7",
   "metadata": {},
   "outputs": [
    {
     "data": {
      "image/png": "[encoded data removed]",
      "text/plain": [
       "<Figure size 432x288 with 1 Axes>"
      ]
     },
     "metadata": {
      "needs_background": "light"
     },
     "output_type": "display_data"
    },
    {
     "data": {
      "image/png": "[encoded data removed]",
      "text/plain": [
       "<Figure size 432x288 with 1 Axes>"
      ]
     },
     "metadata": {
      "needs_background": "light"
     },
     "output_type": "display_data"
    },
    {
     "data": {
      "image/png": "[encoded data removed]",
      "text/plain": [
       "<Figure size 432x288 with 1 Axes>"
      ]
     },
     "metadata": {
      "needs_background": "light"
     },
     "output_type": "display_data"
    },
    {
     "data": {
      "image/png": "[encoded data removed]",
      "text/plain": [
       "<Figure size 432x288 with 1 Axes>"
      ]
     },
     "metadata": {
      "needs_background": "light"
     },
     "output_type": "display_data"
    }
   ],
   "source": [
    "# **결과 시각화**\n",
    "def plot_history(history, model_name):\n",
    "    metrics = ['accuracy', 'loss']\n",
    "    for metric in metrics:\n",
    "        plt.plot(history.history[metric], label=f'{metric}')\n",
    "        plt.plot(history.history[f'val_{metric}'], label=f'val_{metric}')\n",
    "        plt.title(f'{model_name} {metric}')\n",
    "        plt.legend()\n",
    "        plt.show()\n",
    "\n",
    "plot_history(cnn_history, \"CNN\")\n",
    "plot_history(resnet_history, \"ResNet-18\")"
   ]
  },
  {
   "cell_type": "code",
   "execution_count": 37,
   "id": "c0d7adbf",
   "metadata": {},
   "outputs": [
    {
     "name": "stdout",
     "output_type": "stream",
     "text": [
      "39/39 [==============================] - 2s 7ms/step - loss: 1.4343 - accuracy: 0.6747\n",
      "39/39 [==============================] - 2s 15ms/step - loss: 1.5792 - accuracy: 0.6266\n",
      "CNN Test Accuracy: 0.6747\n",
      "ResNet Test Accuracy: 0.6266\n"
     ]
    }
   ],
   "source": [
    "# **Step 3: 테스트 데이터 평가**\n",
    "cnn_loss, cnn_acc = cnn_model.evaluate(test_ds)\n",
    "resnet_loss, resnet_acc = resnet_model.evaluate(test_ds)\n",
    "\n",
    "print(f\"CNN Test Accuracy: {cnn_acc:.4f}\")\n",
    "print(f\"ResNet Test Accuracy: {resnet_acc:.4f}\")"
   ]
  },
  {
   "cell_type": "code",
   "execution_count": null,
   "id": "33925ad0",
   "metadata": {},
   "outputs": [],
   "source": []
  }
 ],
 "metadata": {
  "kernelspec": {
   "display_name": "Python 3 (ipykernel)",
   "language": "python",
   "name": "python3"
  },
  "language_info": {
   "codemirror_mode": {
    "name": "ipython",
    "version": 3
   },
   "file_extension": ".py",
   "mimetype": "text/x-python",
   "name": "python",
   "nbconvert_exporter": "python",
   "pygments_lexer": "ipython3",
   "version": "3.9.7"
  }
 },
 "nbformat": 4,
 "nbformat_minor": 5
}
