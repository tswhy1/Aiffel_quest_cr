{
 "cells": [
  {
   "cell_type": "markdown",
   "id": "7f7a63a3",
   "metadata": {},
   "source": [
    "## 가랏 몬스터볼! 전설의 포켓몬 찾아 삼만리"
   ]
  },
  {
   "cell_type": "markdown",
   "id": "68a78eda",
   "metadata": {},
   "source": [
    "**1. 개요**\n",
    "\n",
    "주어진 포켓몬 데이터를 기반으로 전설의 포켓몬과 일반 포켓몬을 분류하는 머신러닝 개발."
   ]
  },
  {
   "cell_type": "markdown",
   "id": "3e608091",
   "metadata": {},
   "source": [
    "프로젝트 목표\n",
    "\n",
    "    (1) 데이터 전처리를 수행하여 분석 가능한 형태로 정리.\n",
    "    (2) Decison Tree 모델과 Baseline 모델 학습 및 평가.\n",
    "    (3) 모델 성능 분석 및 결과 보고."
   ]
  },
  {
   "cell_type": "markdown",
   "id": "0b9e1fbc",
   "metadata": {},
   "source": [
    "**2. 데이터 분석**\n",
    " \n",
    "    -2.1 데이터 구조 확인\n",
    "    데이터는 총 800행, 13열로 구성되어 있으며, 각 행은 하나의 포켓몬을 나타냅니다.\n",
    "    포켓몬 총 800마리, 각 포켓몬 특성(feature) 13개\n",
    "    \n",
    "    주요 칼럼:\n",
    "        -Name: 포켓몬 이름\n",
    "        -Type 1, Type 2: 포켓몬의 주된 속성\n",
    "        -Stats: HP, Attack, Defense, Sp.Atk, Sp.Def, Speed\n",
    "        -Legendary: 전설 포켓몬 여부(타겟 변수)\n",
    "         변수저장 legendary(Legendary == True), ordinary(Legendary == False)\n",
    "            \n",
    "    -2.2 결측값 \n",
    "     결측치 확인: pokemon.isnull().sum()\n",
    "            Type 2 컬럼에 결측값(NaN)이 386 존재. 데이터 분포 plot을 통한 포켓몬 속성 분포 확인.sns.countplot.\n",
    "            name_count를 통해 legendary 구분에 이름변수(이름길이) 중요성 확인. 적용 기준들을 통해 토큰 추출.\n",
    "            "
   ]
  },
  {
   "cell_type": "markdown",
   "id": "408520ee",
   "metadata": {},
   "source": [
    "**3. Feature Engineering**\n",
    "     \n",
    "    -3.1 데이터 인코딩\n",
    "     범주형 데이터 처리: 18개 모든 Type에 대한 컬럼을 만들고, 원-핫 인코딩\n",
    "            Type 1, Type 2\n",
    "            Legendary\n",
    "            \n",
    "    -3.2 데이터 분리:\n",
    "        데이터는 훈련(학습) 데이터와 테스트 데이터로 분리.\n",
    "        from sklearn.model_selection import train_test_split\n",
    "\n",
    "        훈련 데이터: 모델 학습에 사용.\n",
    "        테스트 데이터: 모델 성능 평가에 사용.\n",
    "    \n",
    "    "
   ]
  },
  {
   "cell_type": "markdown",
   "id": "e41a4120",
   "metadata": {},
   "source": [
    "**4. 모델 개발**\n",
    "\n",
    "    -4.1 Decision Tree 모델\n",
    "        모델 구성:\n",
    "            DecisionTreeClassifier를 사용.\n",
    "            random_state=25로 고정하여 재현 가능한 결과 생성.\n",
    "            \n",
    "        성능 평가:\n",
    "            정확도(Accuracy): 95%\n",
    "                    \n",
    "                \n",
    "    -4.2 비교 모델\n",
    "        Baseline 모델:\n",
    "            Decision Tree의 이해하기 위해 성능 하한선 역할을 하는 Baseline 모델 비교.\n",
    "                \n",
    "        모델 성능 비교:\n",
    "            학습 후 모델이 더 높은 성능을 보임."
   ]
  },
  {
   "cell_type": "markdown",
   "id": "5e32c5fe",
   "metadata": {},
   "source": [
    "**5. 결과 분석**\n",
    "\n",
    "   -5.1 Confusion Matrix\n",
    "    \n",
    "| **Predicted**         | **Not Legendary (False)** | **Legendary (True)** |\n",
    "|------------------------|---------------------------|-----------------------|\n",
    "| **Not Legendary (False)** | 141                     | 6                     |\n",
    "| **Legendary (True)**      | 2                       | 11                    |\n",
    "    \n",
    "    \n",
    "   -5.2 Classification Report\n",
    "   \n",
    "   \n",
    "   - 기본 데이터(Baseline)에서의 Recall 값\n",
    "   \n",
    "   | Metric          | Precision | Recall | F1-Score | Support |\n",
    "|------------------|-----------|--------|----------|---------|\n",
    "| **Not Legendary** | 0.97      | 0.98   | 0.97     | 147     |\n",
    "| **Legendary**     | 0.73      | **0.62**   | 0.67     | 13      |\n",
    "| **Accuracy**      | -         | -      | 0.95     | 160     |\n",
    "| **Macro Avg**     | 0.85      | 0.80   | 0.82     | 160     |\n",
    "| **Weighted Avg**  | 0.95      | 0.95   | 0.95     | 160     |\n",
    "   \n",
    "   \n",
    "  - 의사결정트리 학습 후 Recall값\n",
    "   \n",
    "\n",
    "| Metric          | Precision | Recall | F1-Score | Support |\n",
    "|------------------|-----------|--------|----------|---------|\n",
    "| **Not Legendary** | 0.99      | 0.96   | 0.97     | 147     |\n",
    "| **Legendary**     | 0.65      | **0.85**   | 0.73     | 13      |\n",
    "| **Accuracy**      | -         | -      | 0.95     | 160     |\n",
    "| **Macro Avg**     | 0.82      | 0.90   | 0.85     | 160     |\n",
    "| **Weighted Avg**  | 0.96      | 0.95   | 0.95     | 160     |"
   ]
  },
  {
   "cell_type": "markdown",
   "id": "c60ef629",
   "metadata": {},
   "source": [
    "6. 회고 및 결론\n",
    "\n",
    "노드를 통해 진행한 전처리와 Feature Engineering 단계를 통해 데이터 품질은 향상된 것을 확인하였음.\n",
    "노드내용에서는 의사결정트리 학습 후 recall 값이 0.92로 올랐다고 하는데, 0.85임.왜 그런지 모르겠음.\n",
    "데이터 전처리에 대한 내용과 모델개발 그리고 개발된 모델의 학습과 비교를 통한 성능 및 분석에 흐름을 어렴풋이 알아가고는 있으나,\n",
    "단계별 진행 사안과 내용을 체계적으로 공부해야 할 필요성을 느낌. 노드를 따라 진행하다 거의 끝부분 노드 코드에서 계속 막힘. gpt를 통해 해결."
   ]
  },
  {
   "cell_type": "markdown",
   "id": "f214fe66",
   "metadata": {},
   "source": [
    "7. 참고자료\n",
    "\n",
    " Scikit-learn Documentation: https://scikit-learn.org/\n",
    " https://pandas.pydata.org/docs/\n",
    " https://seaborn.pydata.org/   \n",
    " https://www.kaggle.com/datasets/abcsds/pokemon\n",
    " "
   ]
  },
  {
   "cell_type": "code",
   "execution_count": null,
   "id": "72b5ba09",
   "metadata": {},
   "outputs": [],
   "source": []
  }
 ],
 "metadata": {
  "kernelspec": {
   "display_name": "Python 3 (ipykernel)",
   "language": "python",
   "name": "python3"
  },
  "language_info": {
   "codemirror_mode": {
    "name": "ipython",
    "version": 3
   },
   "file_extension": ".py",
   "mimetype": "text/x-python",
   "name": "python",
   "nbconvert_exporter": "python",
   "pygments_lexer": "ipython3",
   "version": "3.9.7"
  }
 },
 "nbformat": 4,
 "nbformat_minor": 5
}
